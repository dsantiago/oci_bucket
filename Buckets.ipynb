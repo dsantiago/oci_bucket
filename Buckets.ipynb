{
 "cells": [
  {
   "cell_type": "code",
   "execution_count": 1,
   "id": "525ee188-43cb-47e8-a4fb-bfe5470a8258",
   "metadata": {},
   "outputs": [],
   "source": [
    "from oci_bucket import OciBucket\n",
    "\n",
    "%load_ext autoreload\n",
    "%autoreload 2"
   ]
  },
  {
   "cell_type": "markdown",
   "id": "e03b295b-8b98-426e-aeb5-c4b22642fe0f",
   "metadata": {},
   "source": [
    "## Load Bucket Object"
   ]
  },
  {
   "cell_type": "code",
   "execution_count": 2,
   "id": "cf8560ec-ffff-4a21-8139-ade0dc83e599",
   "metadata": {},
   "outputs": [],
   "source": [
    "bucket_name = 'dsantiago'\n",
    "\n",
    "storage_client = OciBucket.client().from_instance_principal()\n",
    "bucket = OciBucket(storage_client, bucket_name)"
   ]
  },
  {
   "cell_type": "markdown",
   "id": "64d160a9-91ab-4fef-86ae-a491d27f8f11",
   "metadata": {},
   "source": [
    "## Load Blobs from Directory"
   ]
  },
  {
   "cell_type": "code",
   "execution_count": 3,
   "id": "cd20cd98-4035-4614-8e5e-e417209e5961",
   "metadata": {},
   "outputs": [
    {
     "data": {
      "text/plain": [
       "[OciBlob(filepath=multiples/, size=0),\n",
       " OciBlob(filepath=multiples/0001.txt, size=5),\n",
       " OciBlob(filepath=multiples/0002.txt, size=5),\n",
       " OciBlob(filepath=multiples/0003.txt, size=5),\n",
       " OciBlob(filepath=multiples/0004.txt, size=5),\n",
       " OciBlob(filepath=multiples/0005.txt, size=5),\n",
       " OciBlob(filepath=multiples/0006.txt, size=5),\n",
       " OciBlob(filepath=multiples/0007.txt, size=5),\n",
       " OciBlob(filepath=multiples/0008.txt, size=5),\n",
       " OciBlob(filepath=multiples/0009.txt, size=5),\n",
       " OciBlob(filepath=multiples/0010.txt, size=5),\n",
       " OciBlob(filepath=multiples/0011.txt, size=5)]"
      ]
     },
     "execution_count": 3,
     "metadata": {},
     "output_type": "execute_result"
    }
   ],
   "source": [
    "files = bucket.list_folder('multiples', limit=12)\n",
    "files"
   ]
  },
  {
   "cell_type": "markdown",
   "id": "2dfefc4e-e4b5-44c2-83b9-30f3eddfe0ac",
   "metadata": {},
   "source": [
    "## Load Blobs from Glob"
   ]
  },
  {
   "cell_type": "code",
   "execution_count": 4,
   "id": "18f6e8a7-2acb-495a-8f54-1c962131af2a",
   "metadata": {},
   "outputs": [
    {
     "data": {
      "text/plain": [
       "[OciBlob(filepath=multiples/1103.txt, size=5),\n",
       " OciBlob(filepath=multiples/1104.txt, size=5),\n",
       " OciBlob(filepath=multiples/1203.txt, size=5),\n",
       " OciBlob(filepath=multiples/1204.txt, size=5)]"
      ]
     },
     "execution_count": 4,
     "metadata": {},
     "output_type": "execute_result"
    }
   ],
   "source": [
    "files = bucket.glob('multiples/1{1,2}0{3,4}.txt', limit=2000)\n",
    "files"
   ]
  },
  {
   "cell_type": "markdown",
   "id": "fa37939b-d8cd-42f1-ba1d-5f5c4e495333",
   "metadata": {},
   "source": [
    "## Load Direct File"
   ]
  },
  {
   "cell_type": "code",
   "execution_count": 5,
   "id": "7d59aadc-f978-481c-8153-8ed48d7fd18d",
   "metadata": {},
   "outputs": [
    {
     "data": {
      "text/plain": [
       "OciBlob(filepath=multiples/0005.txt, size=5)"
      ]
     },
     "execution_count": 5,
     "metadata": {},
     "output_type": "execute_result"
    }
   ],
   "source": [
    "bucket.get_file('multiples/0005.txt')"
   ]
  },
  {
   "cell_type": "markdown",
   "id": "6dcc7233-c0ad-4b59-9dd4-8aa941d1190d",
   "metadata": {},
   "source": [
    "## Load Pandas DataFrame (without downlaod file)"
   ]
  },
  {
   "cell_type": "code",
   "execution_count": 6,
   "id": "e70ef7ce-55fa-4fd9-b792-028d2de3a6f4",
   "metadata": {},
   "outputs": [
    {
     "data": {
      "text/html": [
       "<div>\n",
       "<style scoped>\n",
       "    .dataframe tbody tr th:only-of-type {\n",
       "        vertical-align: middle;\n",
       "    }\n",
       "\n",
       "    .dataframe tbody tr th {\n",
       "        vertical-align: top;\n",
       "    }\n",
       "\n",
       "    .dataframe thead th {\n",
       "        text-align: right;\n",
       "    }\n",
       "</style>\n",
       "<table border=\"1\" class=\"dataframe\">\n",
       "  <thead>\n",
       "    <tr style=\"text-align: right;\">\n",
       "      <th></th>\n",
       "      <th>patient</th>\n",
       "      <th>ed</th>\n",
       "      <th>es</th>\n",
       "      <th>group</th>\n",
       "      <th>height</th>\n",
       "      <th>nbframe</th>\n",
       "      <th>weight</th>\n",
       "      <th>target</th>\n",
       "    </tr>\n",
       "  </thead>\n",
       "  <tbody>\n",
       "    <tr>\n",
       "      <th>0</th>\n",
       "      <td>patient001</td>\n",
       "      <td>1</td>\n",
       "      <td>12</td>\n",
       "      <td>DCM</td>\n",
       "      <td>184.0</td>\n",
       "      <td>30</td>\n",
       "      <td>95.0</td>\n",
       "      <td>1</td>\n",
       "    </tr>\n",
       "    <tr>\n",
       "      <th>1</th>\n",
       "      <td>patient002</td>\n",
       "      <td>1</td>\n",
       "      <td>12</td>\n",
       "      <td>DCM</td>\n",
       "      <td>160.0</td>\n",
       "      <td>30</td>\n",
       "      <td>70.0</td>\n",
       "      <td>1</td>\n",
       "    </tr>\n",
       "    <tr>\n",
       "      <th>2</th>\n",
       "      <td>patient003</td>\n",
       "      <td>1</td>\n",
       "      <td>15</td>\n",
       "      <td>DCM</td>\n",
       "      <td>165.0</td>\n",
       "      <td>30</td>\n",
       "      <td>77.0</td>\n",
       "      <td>1</td>\n",
       "    </tr>\n",
       "    <tr>\n",
       "      <th>3</th>\n",
       "      <td>patient004</td>\n",
       "      <td>1</td>\n",
       "      <td>15</td>\n",
       "      <td>DCM</td>\n",
       "      <td>159.0</td>\n",
       "      <td>28</td>\n",
       "      <td>46.0</td>\n",
       "      <td>1</td>\n",
       "    </tr>\n",
       "    <tr>\n",
       "      <th>4</th>\n",
       "      <td>patient005</td>\n",
       "      <td>1</td>\n",
       "      <td>13</td>\n",
       "      <td>DCM</td>\n",
       "      <td>165.0</td>\n",
       "      <td>30</td>\n",
       "      <td>77.0</td>\n",
       "      <td>1</td>\n",
       "    </tr>\n",
       "  </tbody>\n",
       "</table>\n",
       "</div>"
      ],
      "text/plain": [
       "      patient  ed  es group  height  nbframe  weight  target\n",
       "0  patient001   1  12   DCM   184.0       30    95.0       1\n",
       "1  patient002   1  12   DCM   160.0       30    70.0       1\n",
       "2  patient003   1  15   DCM   165.0       30    77.0       1\n",
       "3  patient004   1  15   DCM   159.0       28    46.0       1\n",
       "4  patient005   1  13   DCM   165.0       30    77.0       1"
      ]
     },
     "execution_count": 6,
     "metadata": {},
     "output_type": "execute_result"
    }
   ],
   "source": [
    "import pandas as pd\n",
    "from io import BytesIO\n",
    "file_bytes = bucket.get_file('csvs/acdc.csv').get_bytes()\n",
    "df = pd.read_csv(BytesIO(file_bytes))\n",
    "df.head()"
   ]
  },
  {
   "cell_type": "markdown",
   "id": "ea88cf25-cd47-4cd6-93f8-b4df6048c7e1",
   "metadata": {},
   "source": [
    "## Download File from Bucket"
   ]
  },
  {
   "cell_type": "code",
   "execution_count": 7,
   "id": "ff083b9d-17ca-46b5-b099-5e2b6642cbd0",
   "metadata": {},
   "outputs": [],
   "source": [
    "bucket.get_file('csvs/acdc.csv').download('acdc_new.csv')"
   ]
  },
  {
   "cell_type": "code",
   "execution_count": null,
   "id": "c62f80b8-630a-4446-a65a-bffb38227c53",
   "metadata": {},
   "outputs": [],
   "source": []
  },
  {
   "cell_type": "code",
   "execution_count": null,
   "id": "28059614-af61-4b47-a05f-28aa8cfa17f3",
   "metadata": {},
   "outputs": [],
   "source": []
  }
 ],
 "metadata": {
  "kernelspec": {
   "display_name": "Python 3 (ipykernel)",
   "language": "python",
   "name": "python3"
  },
  "language_info": {
   "codemirror_mode": {
    "name": "ipython",
    "version": 3
   },
   "file_extension": ".py",
   "mimetype": "text/x-python",
   "name": "python",
   "nbconvert_exporter": "python",
   "pygments_lexer": "ipython3",
   "version": "3.12.9"
  }
 },
 "nbformat": 4,
 "nbformat_minor": 5
}
